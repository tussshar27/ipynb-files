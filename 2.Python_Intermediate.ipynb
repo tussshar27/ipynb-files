{
 "cells": [
  {
   "cell_type": "markdown",
   "metadata": {},
   "source": [
    "Modules, Packages, and import"
   ]
  },
  {
   "cell_type": "markdown",
   "metadata": {},
   "source": [
    "A module is a collection of functions and variables that have been bundled together in a single file."
   ]
  },
  {
   "cell_type": "markdown",
   "metadata": {},
   "source": [
    "1. Module: A Python file\n",
    "2. Package: A folder with an __init__.py file"
   ]
  },
  {
   "cell_type": "code",
   "execution_count": 1,
   "metadata": {},
   "outputs": [
    {
     "name": "stdout",
     "output_type": "stream",
     "text": [
      "Hello\n"
     ]
    }
   ],
   "source": [
    "print('Hello')"
   ]
  },
  {
   "cell_type": "code",
   "execution_count": 4,
   "metadata": {},
   "outputs": [],
   "source": [
    "import math     #package"
   ]
  },
  {
   "cell_type": "code",
   "execution_count": 3,
   "metadata": {},
   "outputs": [
    {
     "data": {
      "text/plain": [
       "8.0"
      ]
     },
     "execution_count": 3,
     "metadata": {},
     "output_type": "execute_result"
    }
   ],
   "source": [
    "math.pow(2,3)"
   ]
  },
  {
   "cell_type": "markdown",
   "metadata": {},
   "source": [
    "Comprehensions\n",
    "1. python provides syntactic sugar to write small loops to generate *lists/dicts/sets/tuples* in one line known as comprehensions.\n",
    "2. they increase development speed and readability."
   ]
  },
  {
   "cell_type": "code",
   "execution_count": 5,
   "metadata": {},
   "outputs": [],
   "source": [
    "list1 = ['tushar', 'ravi', 'ajay', 'naman']"
   ]
  },
  {
   "cell_type": "code",
   "execution_count": 6,
   "metadata": {},
   "outputs": [
    {
     "name": "stdout",
     "output_type": "stream",
     "text": [
      "['tushar', 'ravi', 'ajay', 'naman']\n"
     ]
    }
   ],
   "source": [
    "print(list1)"
   ]
  },
  {
   "cell_type": "code",
   "execution_count": 17,
   "metadata": {},
   "outputs": [
    {
     "name": "stdout",
     "output_type": "stream",
     "text": [
      "Hello: tushar\n",
      "Hello: ravi\n",
      "Hello: ajay\n",
      "Hello: naman\n"
     ]
    }
   ],
   "source": [
    "for name in list1:\n",
    "    print(f'Hello: {name}')"
   ]
  },
  {
   "cell_type": "code",
   "execution_count": 20,
   "metadata": {},
   "outputs": [
    {
     "name": "stdout",
     "output_type": "stream",
     "text": [
      "['Hello: tushar', 'Hello: ravi', 'Hello: ajay', 'Hello: naman']\n"
     ]
    }
   ],
   "source": [
    "new_list = []\n",
    "for name in list1:\n",
    "    new_list.append(\"Hello: \" + name)\n",
    "print(new_list)"
   ]
  },
  {
   "cell_type": "markdown",
   "metadata": {},
   "source": [
    "List Comprehension"
   ]
  },
  {
   "cell_type": "code",
   "execution_count": 9,
   "metadata": {},
   "outputs": [
    {
     "name": "stdout",
     "output_type": "stream",
     "text": [
      "['Hello tushar', 'Hello ravi', 'Hello ajay', 'Hello naman']\n"
     ]
    }
   ],
   "source": [
    "#using comprehension, we can write this above for-in loop in a single line of code.\n",
    "hey = [\"Hello \" + name for name in list1]\n",
    "print(hey)"
   ]
  },
  {
   "cell_type": "code",
   "execution_count": 21,
   "metadata": {},
   "outputs": [
    {
     "name": "stdout",
     "output_type": "stream",
     "text": [
      "[12, 34, 78, 76]\n",
      "['Even Number: 12', 'Even Number: 34', 'Even Number: 78', 'Even Number: 76']\n"
     ]
    },
    {
     "data": {
      "text/plain": [
       "list"
      ]
     },
     "execution_count": 21,
     "metadata": {},
     "output_type": "execute_result"
    }
   ],
   "source": [
    "list2 = [12,34,35,78,76,43]\n",
    "hello = [num for num in list2 if num % 2 == 0]\n",
    "#converting integer to string below;\n",
    "even = [\"Even Number: \" + \"% s\" % num for num in list2 if num % 2 == 0] \n",
    "print(hello)\n",
    "print(even)\n",
    "type(hello)"
   ]
  },
  {
   "cell_type": "code",
   "execution_count": 29,
   "metadata": {},
   "outputs": [
    {
     "name": "stdout",
     "output_type": "stream",
     "text": [
      "[(35, 1225), (43, 1849)]\n",
      "<class 'list'>\n"
     ]
    }
   ],
   "source": [
    "#paranthesis is must if we call multiple times\n",
    "odd_square = [(num, num*num) for num in list2 if num % 2 == 1]\n",
    "print(odd_square)\n",
    "print(type(odd_square))"
   ]
  },
  {
   "cell_type": "markdown",
   "metadata": {},
   "source": [
    "Exception Handling\n",
    "\n",
    "1. try - except block is used in exception handling.\n",
    "2. we write our code in try block and the handling of exception is written in except block."
   ]
  },
  {
   "cell_type": "code",
   "execution_count": 30,
   "metadata": {},
   "outputs": [
    {
     "ename": "ZeroDivisionError",
     "evalue": "division by zero",
     "output_type": "error",
     "traceback": [
      "\u001b[1;31m---------------------------------------------------------------------------\u001b[0m",
      "\u001b[1;31mZeroDivisionError\u001b[0m                         Traceback (most recent call last)",
      "Cell \u001b[1;32mIn[30], line 1\u001b[0m\n\u001b[1;32m----> 1\u001b[0m \u001b[39mprint\u001b[39m(\u001b[39m1\u001b[39;49m\u001b[39m/\u001b[39;49m\u001b[39m0\u001b[39;49m)\n",
      "\u001b[1;31mZeroDivisionError\u001b[0m: division by zero"
     ]
    }
   ],
   "source": [
    "print(1/0)"
   ]
  },
  {
   "cell_type": "code",
   "execution_count": 32,
   "metadata": {},
   "outputs": [
    {
     "name": "stdout",
     "output_type": "stream",
     "text": [
      "divided by zero error occured\n"
     ]
    }
   ],
   "source": [
    "#above code is written using try - except block.\n",
    "try:\n",
    "    x = 1 / 0\n",
    "except ZeroDivisionError:\n",
    "    print('divided by zero error occured')"
   ]
  },
  {
   "cell_type": "code",
   "execution_count": 1,
   "metadata": {},
   "outputs": [
    {
     "name": "stdout",
     "output_type": "stream",
     "text": [
      "division by zero\n",
      "divided by zero error occured\n"
     ]
    }
   ],
   "source": [
    "try:\n",
    "    x = 1 / 0\n",
    "except Exception as e:\n",
    "    print(e)\n",
    "    print('divided by zero error occured')"
   ]
  },
  {
   "cell_type": "code",
   "execution_count": 39,
   "metadata": {},
   "outputs": [
    {
     "name": "stdout",
     "output_type": "stream",
     "text": [
      "divided by zero error occured\n",
      "finnaly block, always executed\n"
     ]
    }
   ],
   "source": [
    "try:\n",
    "    x = 1 / 0\n",
    "except ZeroDivisionError:\n",
    "    print('divided by zero error occured')\n",
    "else:\n",
    "    print('executed only when exception does not occured')\n",
    "finally:\n",
    "    print('finnaly block, always executed')"
   ]
  },
  {
   "cell_type": "code",
   "execution_count": 40,
   "metadata": {},
   "outputs": [
    {
     "name": "stdout",
     "output_type": "stream",
     "text": [
      "jih\n"
     ]
    }
   ],
   "source": [
    "try:\n",
    "    x=1/0\n",
    "except:\n",
    "    print('jih')"
   ]
  },
  {
   "cell_type": "markdown",
   "metadata": {},
   "source": [
    "Working with text file\n",
    "1. w is for write\n",
    "2. r is for read\n",
    "3. a is for append"
   ]
  },
  {
   "cell_type": "code",
   "execution_count": 44,
   "metadata": {},
   "outputs": [],
   "source": [
    "#write mode, create/rewrite new file\n",
    "with open('myfile1.txt','w') as f:  \n",
    "    f.write('Hello \\n')\n",
    "    f.write('This is my file1')\n"
   ]
  },
  {
   "cell_type": "code",
   "execution_count": 47,
   "metadata": {},
   "outputs": [],
   "source": [
    "#append mode, appending existing file\n",
    "with open('myfile1.txt','a') as f:\n",
    "    f.write('\\nNew line')"
   ]
  },
  {
   "cell_type": "code",
   "execution_count": 49,
   "metadata": {},
   "outputs": [
    {
     "name": "stdout",
     "output_type": "stream",
     "text": [
      "Hello \n",
      "\n",
      "This is my file1\n",
      "\n",
      " New line\n",
      "\n",
      "New line\n"
     ]
    }
   ],
   "source": [
    "#read mode, reading file using for in loop.\n",
    "with open('myfile1.txt','r') as f:\n",
    "    for line in f:\n",
    "        print(line)\n",
    "\n",
    "f.close()"
   ]
  },
  {
   "cell_type": "code",
   "execution_count": 1,
   "metadata": {},
   "outputs": [
    {
     "name": "stdout",
     "output_type": "stream",
     "text": [
      "c:\\Users\\DELL\\.ipynb_checkpoints\n"
     ]
    }
   ],
   "source": [
    "#to get the path of the current working directory.\n",
    "\n",
    "import os\n",
    "print(os.path.abspath(os.curdir))"
   ]
  },
  {
   "cell_type": "markdown",
   "metadata": {},
   "source": [
    "Functions in Python"
   ]
  },
  {
   "cell_type": "code",
   "execution_count": 2,
   "metadata": {},
   "outputs": [
    {
     "name": "stdout",
     "output_type": "stream",
     "text": [
      "Tushar Annam\n"
     ]
    }
   ],
   "source": [
    "def hello():\n",
    "    print(\"Tushar Annam\")\n",
    "\n",
    "hello()"
   ]
  },
  {
   "cell_type": "code",
   "execution_count": 3,
   "metadata": {},
   "outputs": [
    {
     "name": "stdout",
     "output_type": "stream",
     "text": [
      "2\n"
     ]
    }
   ],
   "source": [
    "def hello2(num=1):  #default value is 1\n",
    "    return num * 2\n",
    "\n",
    "print(hello2())"
   ]
  },
  {
   "cell_type": "code",
   "execution_count": 4,
   "metadata": {},
   "outputs": [
    {
     "name": "stdout",
     "output_type": "stream",
     "text": [
      "10\n"
     ]
    }
   ],
   "source": [
    "def hello2(num=1):\n",
    "    return num * 2\n",
    "\n",
    "print(hello2(5))"
   ]
  },
  {
   "cell_type": "code",
   "execution_count": 8,
   "metadata": {},
   "outputs": [
    {
     "name": "stdout",
     "output_type": "stream",
     "text": [
      "10\n"
     ]
    }
   ],
   "source": [
    "def hello2(num):    #mandatory parameter\n",
    "    return num * 2\n",
    "\n",
    "print(hello2(5))"
   ]
  },
  {
   "cell_type": "code",
   "execution_count": 23,
   "metadata": {},
   "outputs": [
    {
     "name": "stdout",
     "output_type": "stream",
     "text": [
      "aman\n",
      "ajay\n",
      "tushar\n",
      "27\n"
     ]
    }
   ],
   "source": [
    "def names(*args):   # **args is used for passing unlimited value parameters.\n",
    "    for arg in args:\n",
    "        print(arg)\n",
    "\n",
    "names('aman', 'ajay', 'tushar',27)"
   ]
  },
  {
   "cell_type": "code",
   "execution_count": 24,
   "metadata": {},
   "outputs": [
    {
     "name": "stdout",
     "output_type": "stream",
     "text": [
      "('name', 'tushar')\n",
      "('age', 25)\n",
      "('address', 'thane')\n"
     ]
    }
   ],
   "source": [
    "def names2(**kwargs):   # **kwargs is used for passing unlimited dictionary key-values.\n",
    "    for arg in kwargs.items():\n",
    "        print(arg)\n",
    "       \n",
    "\n",
    "names2(name='tushar', age=25, address='thane')"
   ]
  },
  {
   "cell_type": "code",
   "execution_count": 26,
   "metadata": {},
   "outputs": [
    {
     "name": "stdout",
     "output_type": "stream",
     "text": [
      "10\n"
     ]
    }
   ],
   "source": [
    "def sub(x,y):\n",
    "    return x*y\n",
    "def calc(x,y,op):\n",
    "    return op(x,y)\n",
    "re = calc(5,2,sub)\n",
    "print(re)"
   ]
  },
  {
   "cell_type": "markdown",
   "metadata": {},
   "source": [
    "Lambda                      \n",
    "Its an anonymous function used to replace regular function."
   ]
  },
  {
   "cell_type": "code",
   "execution_count": 28,
   "metadata": {},
   "outputs": [
    {
     "name": "stdout",
     "output_type": "stream",
     "text": [
      "100\n"
     ]
    }
   ],
   "source": [
    "def square(num):\n",
    "    print(num**2)\n",
    "\n",
    "square(10)"
   ]
  },
  {
   "cell_type": "code",
   "execution_count": 32,
   "metadata": {},
   "outputs": [
    {
     "data": {
      "text/plain": [
       "25"
      ]
     },
     "execution_count": 32,
     "metadata": {},
     "output_type": "execute_result"
    }
   ],
   "source": [
    "#above function can be written in single line using lambda function.\n",
    "square = lambda num: num**2     #function_name = lambda variable: logic\n",
    "square(5)"
   ]
  },
  {
   "cell_type": "markdown",
   "metadata": {},
   "source": [
    "Object Oriented Programming (OOPs)"
   ]
  },
  {
   "cell_type": "markdown",
   "metadata": {},
   "source": [
    "Object           \n",
    "In python, everything is an object."
   ]
  },
  {
   "cell_type": "code",
   "execution_count": 33,
   "metadata": {},
   "outputs": [
    {
     "name": "stdout",
     "output_type": "stream",
     "text": [
      "<class '__main__.Main'>\n"
     ]
    }
   ],
   "source": [
    "class Main:\n",
    "    pass\n",
    "\n",
    "m = Main()\n",
    "print(type(m))"
   ]
  },
  {
   "cell_type": "code",
   "execution_count": null,
   "metadata": {},
   "outputs": [],
   "source": []
  }
 ],
 "metadata": {
  "kernelspec": {
   "display_name": "Python 3",
   "language": "python",
   "name": "python3"
  },
  "language_info": {
   "codemirror_mode": {
    "name": "ipython",
    "version": 3
   },
   "file_extension": ".py",
   "mimetype": "text/x-python",
   "name": "python",
   "nbconvert_exporter": "python",
   "pygments_lexer": "ipython3",
   "version": "3.10.8"
  },
  "orig_nbformat": 4
 },
 "nbformat": 4,
 "nbformat_minor": 2
}
